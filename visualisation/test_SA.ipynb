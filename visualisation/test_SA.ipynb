{
 "cells": [
  {
   "cell_type": "code",
   "execution_count": null,
   "metadata": {},
   "outputs": [],
   "source": [
    "import streamlit as st\n",
    "import pandas as pd\n",
    "import numpy as np\n",
    "import matplotlib.pyplot as plt\n",
    "import seaborn as sns\n",
    "import json\n"
   ]
  },
  {
   "cell_type": "code",
   "execution_count": 69,
   "metadata": {},
   "outputs": [],
   "source": [
    "\n",
    "path = 'E:\\Technologie\\Master\\Webm\\wem'\n",
    "\n",
    "with open(f'{path}\\\\movies.json',encoding=\"utf8\") as f:\n",
    "    data = json.load(f)\n",
    "\n",
    "with open(f'{path}\\\\nlp.json',encoding=\"utf8\") as f:\n",
    "    data_nlp = json.load(f)\n",
    " \n"
   ]
  },
  {
   "cell_type": "code",
   "execution_count": null,
   "metadata": {},
   "outputs": [],
   "source": [
    "df_nlp = pd.DataFrame(data_nlp).T\n",
    "df_data = pd.DataFrame(data)"
   ]
  },
  {
   "cell_type": "code",
   "execution_count": null,
   "metadata": {},
   "outputs": [],
   "source": [
    "# set the uuid as index\n",
    "df_data.set_index('uuid', inplace=True)"
   ]
  },
  {
   "cell_type": "code",
   "execution_count": null,
   "metadata": {},
   "outputs": [],
   "source": [
    "# join the two dataframes on the index and uuid\n",
    "df = df_data.join(df_nlp, how=\"inner\")"
   ]
  },
  {
   "cell_type": "code",
   "execution_count": null,
   "metadata": {},
   "outputs": [],
   "source": [
    "# add a column uuid from the index\n",
    "df['uuid'] = df.index"
   ]
  },
  {
   "cell_type": "code",
   "execution_count": null,
   "metadata": {},
   "outputs": [],
   "source": [
    "def loadJson(path):\n",
    "    f = open(path)\n",
    "    data = json.load(f)\n",
    "    f.close()\n",
    "    return data\n",
    "\n",
    "def moving_average(x, width):\n",
    "    return np.convolve(x, np.ones(width), 'valid') / width\n",
    "\n",
    "def computeNormAvg(movie, avgWidth):\n",
    "    neg = [entry[1] for entry in movie]\n",
    "    pos = [entry[2] for entry in movie]\n",
    "    avgNeg = moving_average(neg, avgWidth)\n",
    "    avgPos = moving_average(pos, avgWidth)\n",
    "    diff = []\n",
    "    for i in range(len(avgPos)):\n",
    "        diff.append(avgPos[i] - avgNeg[i])\n",
    "    x = [entry[0] for entry in movie[:len(avgPos)]]\n",
    "    factor = 100 / x[-1]\n",
    "    normx = [r * factor for r in x]\n",
    "    return normx, avgNeg, avgPos, diff\n",
    "\n",
    "def plot(x, neg=None, pos=None, diff=None, poly=None):\n",
    "    plt.figure(figsize=(8, 4), layout='constrained')\n",
    "    if neg is not None: plt.plot(x, neg, color=\"red\", label=\"neg\")\n",
    "    if pos is not None: plt.plot(x, pos, color=\"green\", label=\"pos\")\n",
    "    if diff is not None: plt.plot(x, diff, color=\"blue\", label=\"delta\")\n",
    "    if poly is not None: plt.plot(x, poly, color=\"green\", label=\"fit\")\n",
    "    plt.axhline(y=0, color=\"black\", linestyle='--')\n",
    "    plt.xlabel(\"time [s]\")\n",
    "    plt.ylabel(\"sentiment\")\n",
    "    plt.legend()"
   ]
  },
  {
   "cell_type": "code",
   "execution_count": 60,
   "metadata": {},
   "outputs": [],
   "source": [
    "# get the first row of the dataframe\n",
    "rows = df.iloc[:2]\n"
   ]
  },
  {
   "cell_type": "code",
   "execution_count": 70,
   "metadata": {},
   "outputs": [],
   "source": [
    "for l,s in rows.iterrows():\n",
    "    n_path = f'{path}\\\\analysis\\{s[\"uuid\"]}.json'"
   ]
  },
  {
   "cell_type": "code",
   "execution_count": 71,
   "metadata": {},
   "outputs": [],
   "source": [
    "analysis_data = loadJson(n_path)"
   ]
  },
  {
   "cell_type": "code",
   "execution_count": null,
   "metadata": {},
   "outputs": [],
   "source": [
    "x, neg, pos, diff = computeNormAvg(analysis_data, 128)\n",
    "fit1 = list(np.polyfit(x, diff, 16))\n",
    "fit1.reverse()\n",
    "func = [sum([val**i * fit1[i] for i in range(len(fit1))]) for val in x]\n",
    "plot(x, diff=diff, poly=func)"
   ]
  }
 ],
 "metadata": {
  "kernelspec": {
   "display_name": ".venv",
   "language": "python",
   "name": "python3"
  },
  "language_info": {
   "codemirror_mode": {
    "name": "ipython",
    "version": 3
   },
   "file_extension": ".py",
   "mimetype": "text/x-python",
   "name": "python",
   "nbconvert_exporter": "python",
   "pygments_lexer": "ipython3",
   "version": "3.11.3"
  },
  "orig_nbformat": 4
 },
 "nbformat": 4,
 "nbformat_minor": 2
}
