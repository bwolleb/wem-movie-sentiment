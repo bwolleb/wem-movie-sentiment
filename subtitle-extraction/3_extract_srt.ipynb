{
 "cells": [
  {
   "cell_type": "code",
   "execution_count": null,
   "metadata": {},
   "outputs": [],
   "source": [
    "import sqlite3\n",
    "import pandas as pd\n",
    "import csv\n",
    "import zipfile, io\n",
    "import chardet\n",
    "from tqdm import tqdm\n",
    "import json\n",
    "import srt\n",
    "\n",
    "dbpath = \"E:\\Technologie\\Master\\Webm\\opensubtitles.org.Actually.Open.Edition.2022.07.25\\opensubs.db\"\n",
    "linked_subtitles = \"E:\\Technologie\\Master\\Webm\\subtitles_all_linked.pkl\"\n",
    "\n",
    "#output_file = \"E:\\Technologie\\Master\\Webm\\subtitles_final.pkl\" #intermediate file, no longer used\n",
    "\n",
    "output_folder = \"E:\\Technologie\\Master\\Webm\\srt\\\\\""
   ]
  },
  {
   "cell_type": "code",
   "execution_count": null,
   "metadata": {},
   "outputs": [],
   "source": [
    "# load the dataframe from the pickle file\n",
    "#df = pd.read_pickle(\"E:\\Technologie\\Master\\Webm\\subtitles_all.pkl\")"
   ]
  },
  {
   "cell_type": "code",
   "execution_count": null,
   "metadata": {},
   "outputs": [],
   "source": [
    "df_index = pd.read_pickle(linked_subtitles)"
   ]
  },
  {
   "cell_type": "code",
   "execution_count": null,
   "metadata": {},
   "outputs": [],
   "source": [
    "ids = df_index[\"IDSubtitle\"].tolist()"
   ]
  },
  {
   "cell_type": "code",
   "execution_count": null,
   "metadata": {},
   "outputs": [],
   "source": [
    "# Connect to database\n",
    "conn = sqlite3.connect(dbpath)\n",
    "c = conn.cursor()\n",
    "\n",
    "# find table names\n",
    "c.execute(\"SELECT name FROM sqlite_master WHERE type='table';\")\n",
    "\n",
    "# print all table names\n",
    "# print(c.fetchall())\n",
    "\n",
    "# find column names\n",
    "c.execute(\"SELECT * FROM subz LIMIT 1\")\n",
    "# print([description[0] for description in c.description])\n",
    "\n",
    "#find primary key\n",
    "c.execute(\"SELECT sql FROM sqlite_master WHERE name='subz' AND type='table';\")\n",
    "# print(c.fetchall())\n",
    "\n",
    "data = []\n",
    "\n",
    "length = len(ids)\n",
    "\n",
    "for row in tqdm(c.execute(f'SELECT * FROM subz WHERE num in {tuple(ids)}'),total=length):\n",
    "    zip_data = row[2]\n",
    "\n",
    "    #print(row)\n",
    "    # Create a file-like object from the binary data\n",
    "    zip_file = io.BytesIO(zip_data)\n",
    "\n",
    "    # This can now be used like a normal zipfile\n",
    "    with zipfile.ZipFile(zip_file) as myzip:\n",
    "        if len([zip_info.filename for zip_info in myzip.infolist() if zip_info.filename.endswith(\".srt\")]) == 1: # max 1 srt file\n",
    "            for zip_info in myzip.infolist():\n",
    "\n",
    "                # keep only the files with the extension \"srt\"\n",
    "                if zip_info.filename.endswith(\".srt\"):\n",
    "\n",
    "                    with myzip.open(zip_info) as myfile:\n",
    "\n",
    "                        file_content = myfile.read()\n",
    "\n",
    "                        # # Detect its encoding\n",
    "                        #detected = chardet.detect(file_content)\n",
    "                        # print(detected)\n",
    "                        #if detected[\"encoding\"] in [\"ISO-8859-1\",\"Windows-1254\",\"ascii\"]:\n",
    "                        data.append([row[0],file_content.decode(\"ascii\", \"ignore\")])\n",
    "\n",
    "\n",
    "# Close connection\n",
    "conn.close()"
   ]
  },
  {
   "cell_type": "code",
   "execution_count": null,
   "metadata": {},
   "outputs": [],
   "source": [
    "len(data)"
   ]
  },
  {
   "cell_type": "code",
   "execution_count": null,
   "metadata": {},
   "outputs": [],
   "source": [
    "# for d in data:\n",
    "#     # Detect its encoding\n",
    "#     detected = chardet.detect(d[1])\n",
    "#     print(detected)\n",
    "#     if detected[\"encoding\"] in [\"ascii\"]:\n",
    "#         # decode the bytes object\n",
    "#         d[1] = d[1].decode(\"ascii\")\n",
    "#         #print(d)"
   ]
  },
  {
   "cell_type": "code",
   "execution_count": null,
   "metadata": {},
   "outputs": [],
   "source": [
    "df = pd.DataFrame(data, columns=['id', 'subtitles'])\n",
    "df"
   ]
  },
  {
   "cell_type": "code",
   "execution_count": null,
   "metadata": {},
   "outputs": [],
   "source": [
    "# merge the two dataframes on the column \"IDSubtitle\"\n",
    "df_index['IDSubtitle'] = pd.to_numeric(df_index['IDSubtitle'], errors='coerce')\n",
    "df_merged = pd.merge(df, df_index, left_on='id', right_on='IDSubtitle', how='inner')\n",
    "df_merged = df_merged[[\"uuid\",\"MovieName\",\"MovieYear\",\"subtitles\"]]\n",
    "df_merged"
   ]
  },
  {
   "cell_type": "code",
   "execution_count": null,
   "metadata": {},
   "outputs": [],
   "source": [
    "# pickling the dataframe\n",
    "#df_merged.to_pickle(output_file)"
   ]
  },
  {
   "cell_type": "code",
   "execution_count": null,
   "metadata": {},
   "outputs": [],
   "source": []
  },
  {
   "cell_type": "code",
   "execution_count": null,
   "metadata": {},
   "outputs": [],
   "source": [
    "# Generate the json files\n",
    "\n",
    "length = len(df_merged)\n",
    "for i, subtitles in tqdm(df_merged.iterrows(), total=length):\n",
    "    try:\n",
    "        generator = srt.parse(df_merged.loc[i, 'subtitles'])\n",
    "        subtitles = list(generator)\n",
    "        \n",
    "        output_subtitles = []\n",
    "        for s in subtitles:\n",
    "            output_subtitles.append([s.start.total_seconds(), s.end.total_seconds(), s.content])\n",
    "\n",
    "        json.dump(output_subtitles, open(output_folder+str(df_merged.loc[i, 'uuid'])+\".json\", 'w'))\n",
    "    except Exception as e:\n",
    "        #print(\"Error: \", e)\n",
    "        pass"
   ]
  }
 ],
 "metadata": {
  "kernelspec": {
   "display_name": ".venv",
   "language": "python",
   "name": "python3"
  },
  "language_info": {
   "codemirror_mode": {
    "name": "ipython",
    "version": 3
   },
   "file_extension": ".py",
   "mimetype": "text/x-python",
   "name": "python",
   "nbconvert_exporter": "python",
   "pygments_lexer": "ipython3",
   "version": "3.11.3"
  },
  "orig_nbformat": 4
 },
 "nbformat": 4,
 "nbformat_minor": 2
}
