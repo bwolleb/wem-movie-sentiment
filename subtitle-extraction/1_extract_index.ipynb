{
 "cells": [
  {
   "cell_type": "code",
   "execution_count": 1,
   "metadata": {},
   "outputs": [],
   "source": [
    "import sqlite3\n",
    "import pandas as pd\n",
    "import csv\n",
    "import zipfile, io\n",
    "import chardet\n",
    "from tqdm import tqdm\n",
    "\n",
    "dbpath = \"E:\\Technologie\\Master\\Webm\\opensubtitles.org.Actually.Open.Edition.2022.07.25\\opensubs.db\"\n",
    "indexpath = \"E:\\Technologie\\Master\\Webm\\opensubtitles.org.Actually.Open.Edition.2022.07.25\\subtitles_all.txt\"\n",
    "\n",
    "output_file = \"E:\\Technologie\\Master\\Webm\\subtitles_all.pkl\""
   ]
  },
  {
   "cell_type": "code",
   "execution_count": 2,
   "metadata": {},
   "outputs": [],
   "source": [
    "def tab_to_array(input_str):\n",
    "    # Split the string into a list of fields\n",
    "    fields = input_str.strip().split('\\t')\n",
    "\n",
    "    # Convert the list to a CSV string\n",
    "    # csv_str = ','.join([f'\"{field}\"' for field in fields])\n",
    "\n",
    "    return fields"
   ]
  },
  {
   "cell_type": "code",
   "execution_count": 3,
   "metadata": {},
   "outputs": [],
   "source": [
    "lines = []\n",
    "count = 0\n",
    "with open(indexpath, \"r\", encoding=\"utf-8\") as f:\n",
    "    for line in f:\n",
    "        tab = tab_to_array(line)\n",
    "        if len(tab) == 16:\n",
    "            lines.append(tab)"
   ]
  },
  {
   "cell_type": "code",
   "execution_count": 4,
   "metadata": {},
   "outputs": [],
   "source": [
    "df = pd.DataFrame(lines[1:],columns=lines[0])\n",
    "lines = []"
   ]
  },
  {
   "cell_type": "code",
   "execution_count": 5,
   "metadata": {},
   "outputs": [
    {
     "data": {
      "text/html": [
       "<div>\n",
       "<style scoped>\n",
       "    .dataframe tbody tr th:only-of-type {\n",
       "        vertical-align: middle;\n",
       "    }\n",
       "\n",
       "    .dataframe tbody tr th {\n",
       "        vertical-align: top;\n",
       "    }\n",
       "\n",
       "    .dataframe thead th {\n",
       "        text-align: right;\n",
       "    }\n",
       "</style>\n",
       "<table border=\"1\" class=\"dataframe\">\n",
       "  <thead>\n",
       "    <tr style=\"text-align: right;\">\n",
       "      <th></th>\n",
       "      <th>IDSubtitle</th>\n",
       "      <th>MovieName</th>\n",
       "      <th>MovieYear</th>\n",
       "    </tr>\n",
       "  </thead>\n",
       "  <tbody>\n",
       "    <tr>\n",
       "      <th>2</th>\n",
       "      <td>3</td>\n",
       "      <td>Ghost in the Shell 2: Innocence</td>\n",
       "      <td>2004</td>\n",
       "    </tr>\n",
       "    <tr>\n",
       "      <th>4</th>\n",
       "      <td>5</td>\n",
       "      <td>The City of Lost Children</td>\n",
       "      <td>1995</td>\n",
       "    </tr>\n",
       "    <tr>\n",
       "      <th>12</th>\n",
       "      <td>13</td>\n",
       "      <td>The Legend of Drunken Master</td>\n",
       "      <td>1994</td>\n",
       "    </tr>\n",
       "    <tr>\n",
       "      <th>14</th>\n",
       "      <td>14</td>\n",
       "      <td>House of Flying Daggers</td>\n",
       "      <td>2004</td>\n",
       "    </tr>\n",
       "    <tr>\n",
       "      <th>16</th>\n",
       "      <td>16</td>\n",
       "      <td>Lu ding ji</td>\n",
       "      <td>1992</td>\n",
       "    </tr>\n",
       "  </tbody>\n",
       "</table>\n",
       "</div>"
      ],
      "text/plain": [
       "   IDSubtitle                        MovieName MovieYear\n",
       "2           3  Ghost in the Shell 2: Innocence      2004\n",
       "4           5        The City of Lost Children      1995\n",
       "12         13     The Legend of Drunken Master      1994\n",
       "14         14          House of Flying Daggers      2004\n",
       "16         16                       Lu ding ji      1992"
      ]
     },
     "execution_count": 5,
     "metadata": {},
     "output_type": "execute_result"
    }
   ],
   "source": [
    "# keep only the lines with the language \"en\"\n",
    "df = df[df['ISO639'] == 'en']\n",
    "\n",
    "# keep only the lines with the format \"srt\"\n",
    "df = df[df['SubFormat'] == 'srt']\n",
    "\n",
    "# keep only the lines with the movie type \"movie\"\n",
    "df = df[df['MovieKind'] == 'movie']\n",
    "\n",
    "# keep only the columns we need\n",
    "df = df[['IDSubtitle', 'MovieName', 'MovieYear']]\n",
    "\n",
    "# drop the duplicates\n",
    "df = df.drop_duplicates(subset=[\"IDSubtitle\"])\n",
    "\n",
    "# keep only one row per movie\n",
    "df = df.drop_duplicates(subset=['MovieName', 'MovieYear'], keep='first')\n",
    "\n",
    "df.head()"
   ]
  },
  {
   "cell_type": "code",
   "execution_count": 6,
   "metadata": {},
   "outputs": [],
   "source": [
    "# save the dataframe as a pickle file\n",
    "df.to_pickle(output_file)"
   ]
  }
 ],
 "metadata": {
  "kernelspec": {
   "display_name": ".venv",
   "language": "python",
   "name": "python3"
  },
  "language_info": {
   "codemirror_mode": {
    "name": "ipython",
    "version": 3
   },
   "file_extension": ".py",
   "mimetype": "text/x-python",
   "name": "python",
   "nbconvert_exporter": "python",
   "pygments_lexer": "ipython3",
   "version": "3.11.3"
  },
  "orig_nbformat": 4
 },
 "nbformat": 4,
 "nbformat_minor": 2
}
