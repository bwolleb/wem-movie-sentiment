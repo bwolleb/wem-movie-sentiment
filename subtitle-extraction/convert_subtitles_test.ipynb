{
 "cells": [
  {
   "cell_type": "code",
   "execution_count": null,
   "metadata": {},
   "outputs": [],
   "source": [
    "import srt\n",
    "import pandas as pd\n",
    "import json\n",
    "from tqdm import tqdm\n",
    "output_path = \"E:\\Technologie\\Master\\Webm\\srt\\\\\""
   ]
  },
  {
   "cell_type": "code",
   "execution_count": null,
   "metadata": {},
   "outputs": [],
   "source": [
    "# import the pickled dataframe\n",
    "df = pd.read_pickle('E:\\Technologie\\Master\\Webm\\subtitles_final.pkl')"
   ]
  },
  {
   "cell_type": "code",
   "execution_count": null,
   "metadata": {},
   "outputs": [],
   "source": [
    "length = len(df)\n",
    "for i, subtitles in tqdm(df.iterrows(), total=length):\n",
    "    try:\n",
    "        generator = srt.parse(df.loc[i, 'subtitles'])\n",
    "        subtitles = list(generator)\n",
    "        \n",
    "        output_subtitles = []\n",
    "        for s in subtitles:\n",
    "            output_subtitles.append([s.start.total_seconds(), s.end.total_seconds(), s.content])\n",
    "\n",
    "        json.dump(output_subtitles, open(output_path+str(df.loc[i, 'uuid'])+\".json\", 'w'))\n",
    "    except Exception as e:\n",
    "        #print(\"Error: \", e)\n",
    "        pass"
   ]
  },
  {
   "cell_type": "code",
   "execution_count": null,
   "metadata": {},
   "outputs": [],
   "source": [
    "with open('data/365-Days_2020_English-ELSUBTITLE.COM-ST_55742757.srt') as f:\n",
    "    subtitle_generator = srt.parse(f.read())"
   ]
  },
  {
   "cell_type": "code",
   "execution_count": null,
   "metadata": {},
   "outputs": [],
   "source": [
    "output_subtitles"
   ]
  },
  {
   "cell_type": "code",
   "execution_count": null,
   "metadata": {},
   "outputs": [],
   "source": [
    "subtitles = list(subtitle_generator)"
   ]
  },
  {
   "cell_type": "code",
   "execution_count": null,
   "metadata": {},
   "outputs": [],
   "source": [
    "output_subtitles = []\n",
    "\n",
    "for s in subtitles:\n",
    "    output_subtitles.append([s.start.total_seconds(), s.end.total_seconds(), s.content])"
   ]
  },
  {
   "cell_type": "code",
   "execution_count": null,
   "metadata": {},
   "outputs": [],
   "source": [
    "import json\n",
    "\n",
    "json.dump(output_subtitles, open('data/output/365_days.json', 'w'))\n"
   ]
  },
  {
   "cell_type": "code",
   "execution_count": null,
   "metadata": {},
   "outputs": [],
   "source": [
    "# test\n",
    "\n",
    "loaded = json.load(open('data/output/365_days.json', 'r'))\n",
    "\n",
    "loaded"
   ]
  }
 ],
 "metadata": {
  "kernelspec": {
   "display_name": ".venv",
   "language": "python",
   "name": "python3"
  },
  "language_info": {
   "codemirror_mode": {
    "name": "ipython",
    "version": 3
   },
   "file_extension": ".py",
   "mimetype": "text/x-python",
   "name": "python",
   "nbconvert_exporter": "python",
   "pygments_lexer": "ipython3",
   "version": "3.11.3"
  },
  "orig_nbformat": 4
 },
 "nbformat": 4,
 "nbformat_minor": 2
}
