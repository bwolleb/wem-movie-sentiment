{
 "cells": [
  {
   "cell_type": "code",
   "execution_count": null,
   "metadata": {},
   "outputs": [],
   "source": [
    "from difflib import SequenceMatcher\n",
    "import json\n",
    "import pickle\n",
    "import pandas as pd\n",
    "from tqdm import tqdm\n",
    "\n",
    "indexPath = \"E:\\Technologie\\Master\\Webm\\subtitles_all.pkl\"\n",
    "movies_json = \"data/movies.json\"\n",
    "\n",
    "output_file = \"E:\\Technologie\\Master\\Webm\\subtitles_all_linked.pkl\"\n",
    "\n",
    "SLOW = False"
   ]
  },
  {
   "cell_type": "code",
   "execution_count": null,
   "metadata": {},
   "outputs": [],
   "source": [
    "# load the dataframe from the pickle file\n",
    "df = pd.read_pickle(indexPath)"
   ]
  },
  {
   "cell_type": "code",
   "execution_count": null,
   "metadata": {},
   "outputs": [],
   "source": [
    "# load the json file\n",
    "with open(movies_json,encoding=\"utf8\") as json_file:\n",
    "    data = json.load(json_file)"
   ]
  },
  {
   "cell_type": "code",
   "execution_count": null,
   "metadata": {},
   "outputs": [],
   "source": [
    "# reduce the sizes for test purposes\n",
    "movies = data[:1000]\n",
    "df_sub_index = df[:]"
   ]
  },
  {
   "cell_type": "code",
   "execution_count": null,
   "metadata": {},
   "outputs": [],
   "source": [
    "# delete the rows when there is no \"title\" key in the data json file\n",
    "for i in range(len(movies)):\n",
    "    if \"uuid\" not in movies[i] or 'title' not in movies[i] or \"year\" not in movies[i]:\n",
    "        movies[i] = None\n",
    "\n",
    "# delete the empty rows\n",
    "movies = list(filter(None, movies))"
   ]
  },
  {
   "cell_type": "code",
   "execution_count": null,
   "metadata": {},
   "outputs": [],
   "source": [
    "df_movies = pd.DataFrame(movies)"
   ]
  },
  {
   "cell_type": "code",
   "execution_count": null,
   "metadata": {},
   "outputs": [],
   "source": [
    "# keep only columns we need\n",
    "df_movies = df_movies[[\"uuid\",'title', 'year']]"
   ]
  },
  {
   "cell_type": "code",
   "execution_count": null,
   "metadata": {},
   "outputs": [],
   "source": [
    "# see the data structures\n",
    "print(df_movies.columns)\n",
    "print(df_sub_index.columns)"
   ]
  },
  {
   "attachments": {},
   "cell_type": "markdown",
   "metadata": {},
   "source": [
    "### Rapid method"
   ]
  },
  {
   "cell_type": "code",
   "execution_count": null,
   "metadata": {},
   "outputs": [],
   "source": [
    "# Create a temporary column in both dataframes for merging\n",
    "df_movies['key'] = df_movies['title'].str.lower() + df_movies['year'].astype(str)\n",
    "df_sub_index['key'] = df_sub_index['MovieName'].str.lower() + df_sub_index['MovieYear'].astype(str)\n",
    "\n",
    "# Merge the two dataframes on the 'key' column\n",
    "df_merged = pd.merge(df_sub_index, df_movies, on='key', how='left')\n",
    "\n",
    "# Drop the temporary 'key' columns\n",
    "df_movies.drop(columns=['key'], inplace=True)\n",
    "df_sub_index.drop(columns=['key'], inplace=True)\n",
    "df_merged.drop(columns=['key'], inplace=True)"
   ]
  },
  {
   "attachments": {},
   "cell_type": "markdown",
   "metadata": {},
   "source": [
    "### Slow method"
   ]
  },
  {
   "cell_type": "code",
   "execution_count": null,
   "metadata": {},
   "outputs": [],
   "source": [
    "SLOW = True\n",
    "\n",
    "if SLOW == True:\n",
    "\n",
    "    # function that matches an int only to another int if they are within a certain range\n",
    "    def matchYear(year,cYear, yearDelta=1):\n",
    "        if abs(year - cYear) > yearDelta:\n",
    "            return False\n",
    "        else:\n",
    "            return True\n",
    "\n",
    "    # function that deternmines the similarity between two movies titles and years\n",
    "    def match_movies(title, year, title2, year2, threshold=0.90,yearDelta=1):\n",
    "        if SequenceMatcher(None, title, title2).ratio() > threshold and matchYear(int(year),int(year2),yearDelta):\n",
    "            return True\n",
    "        else:\n",
    "            return False\n",
    "\n",
    "    # add a column to the dataframe that contains the movie uuid\n",
    "    df_sub_index['movie_uuid'] = \"\"\n",
    "\n",
    "    matches = []\n",
    "    length = len(df_movies)\n",
    "\n",
    "    for i,movie in tqdm(df_movies.iterrows(),total=length):\n",
    "        for index, row in df_sub_index.iterrows():\n",
    "            if match_movies(movie[\"title\"],movie[\"year\"],row[\"MovieName\"],row[\"MovieYear\"],threshold=0.9,yearDelta=1):\n",
    "                df_sub_index.loc[index,'movie_uuid'] = movie[\"uuid\"]\n",
    "                break"
   ]
  },
  {
   "attachments": {},
   "cell_type": "markdown",
   "metadata": {},
   "source": [
    "### Results"
   ]
  },
  {
   "cell_type": "code",
   "execution_count": null,
   "metadata": {},
   "outputs": [],
   "source": [
    "#print the rows that have a movie uuid\n",
    "# df_sub_index[df_sub_index['movie_uuid'] != \"\"]"
   ]
  },
  {
   "cell_type": "code",
   "execution_count": null,
   "metadata": {},
   "outputs": [],
   "source": [
    "\n",
    "\n",
    "# print the rows there movie uuid is not NaN\n",
    "df_out = df_merged[df_merged['uuid'].notna()].drop(columns=[\"title\",\"year\"])\n",
    "df_out"
   ]
  },
  {
   "cell_type": "code",
   "execution_count": null,
   "metadata": {},
   "outputs": [],
   "source": [
    "# save the dataframe to a pickle file\n",
    "df_out.to_pickle(output_file)"
   ]
  }
 ],
 "metadata": {
  "kernelspec": {
   "display_name": ".venv",
   "language": "python",
   "name": "python3"
  },
  "language_info": {
   "codemirror_mode": {
    "name": "ipython",
    "version": 3
   },
   "file_extension": ".py",
   "mimetype": "text/x-python",
   "name": "python",
   "nbconvert_exporter": "python",
   "pygments_lexer": "ipython3",
   "version": "3.11.3"
  },
  "orig_nbformat": 4
 },
 "nbformat": 4,
 "nbformat_minor": 2
}
