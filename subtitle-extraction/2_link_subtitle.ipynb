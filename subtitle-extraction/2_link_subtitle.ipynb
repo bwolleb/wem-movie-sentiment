{
 "cells": [
  {
   "cell_type": "code",
   "execution_count": 1,
   "metadata": {},
   "outputs": [],
   "source": [
    "from difflib import SequenceMatcher\n",
    "import json\n",
    "import pickle\n",
    "import pandas as pd\n",
    "from tqdm import tqdm\n",
    "\n",
    "indexPath = \"E:\\Technologie\\Master\\Webm\\subtitles_all.pkl\"\n",
    "movies_json = \"data/movies.json\"\n",
    "\n",
    "output_file = \"E:\\Technologie\\Master\\Webm\\subtitles_all_linked.pkl\"\n",
    "\n",
    "SLOW = False"
   ]
  },
  {
   "cell_type": "code",
   "execution_count": 2,
   "metadata": {},
   "outputs": [],
   "source": [
    "# load the dataframe from the pickle file\n",
    "df = pd.read_pickle(indexPath)"
   ]
  },
  {
   "cell_type": "code",
   "execution_count": 3,
   "metadata": {},
   "outputs": [],
   "source": [
    "# load the json file\n",
    "with open(movies_json,encoding=\"utf8\") as json_file:\n",
    "    data = json.load(json_file)"
   ]
  },
  {
   "cell_type": "code",
   "execution_count": 4,
   "metadata": {},
   "outputs": [],
   "source": [
    "# reduce the sizes for test purposes\n",
    "movies = data[:]\n",
    "df_sub_index = df[:]"
   ]
  },
  {
   "cell_type": "code",
   "execution_count": 5,
   "metadata": {},
   "outputs": [],
   "source": [
    "# delete the rows when there is no \"title\" key in the data json file\n",
    "for i in range(len(movies)):\n",
    "    if \"uuid\" not in movies[i] or 'title' not in movies[i] or \"year\" not in movies[i]:\n",
    "        movies[i] = None\n",
    "\n",
    "# delete the empty rows\n",
    "movies = list(filter(None, movies))"
   ]
  },
  {
   "cell_type": "code",
   "execution_count": 6,
   "metadata": {},
   "outputs": [],
   "source": [
    "df_movies = pd.DataFrame(movies)"
   ]
  },
  {
   "cell_type": "code",
   "execution_count": 7,
   "metadata": {},
   "outputs": [],
   "source": [
    "# keep only columns we need\n",
    "df_movies = df_movies[[\"uuid\",'title', 'year']]"
   ]
  },
  {
   "cell_type": "code",
   "execution_count": 8,
   "metadata": {},
   "outputs": [
    {
     "name": "stdout",
     "output_type": "stream",
     "text": [
      "Index(['uuid', 'title', 'year'], dtype='object')\n",
      "Index(['IDSubtitle', 'MovieName', 'MovieYear'], dtype='object')\n"
     ]
    }
   ],
   "source": [
    "# see the data structures\n",
    "print(df_movies.columns)\n",
    "print(df_sub_index.columns)"
   ]
  },
  {
   "attachments": {},
   "cell_type": "markdown",
   "metadata": {},
   "source": [
    "### Rapid method"
   ]
  },
  {
   "cell_type": "code",
   "execution_count": 9,
   "metadata": {},
   "outputs": [
    {
     "name": "stderr",
     "output_type": "stream",
     "text": [
      "C:\\Users\\massi2\\AppData\\Local\\Temp\\ipykernel_26356\\3423333825.py:3: SettingWithCopyWarning: \n",
      "A value is trying to be set on a copy of a slice from a DataFrame.\n",
      "Try using .loc[row_indexer,col_indexer] = value instead\n",
      "\n",
      "See the caveats in the documentation: https://pandas.pydata.org/pandas-docs/stable/user_guide/indexing.html#returning-a-view-versus-a-copy\n",
      "  df_sub_index['key'] = df_sub_index['MovieName'].str.lower() + df_sub_index['MovieYear'].astype(str)\n"
     ]
    }
   ],
   "source": [
    "# Create a temporary column in both dataframes for merging\n",
    "df_movies['key'] = df_movies['title'].str.lower() + df_movies['year'].astype(str)\n",
    "df_sub_index['key'] = df_sub_index['MovieName'].str.lower() + df_sub_index['MovieYear'].astype(str)\n",
    "\n",
    "# Merge the two dataframes on the 'key' column\n",
    "df_merged = pd.merge(df_sub_index, df_movies, on='key', how='left')\n",
    "\n",
    "# Drop the temporary 'key' columns\n",
    "df_movies.drop(columns=['key'], inplace=True)\n",
    "df_sub_index.drop(columns=['key'], inplace=True)\n",
    "df_merged.drop(columns=['key'], inplace=True)"
   ]
  },
  {
   "attachments": {},
   "cell_type": "markdown",
   "metadata": {},
   "source": [
    "### Slow method"
   ]
  },
  {
   "cell_type": "code",
   "execution_count": 10,
   "metadata": {},
   "outputs": [],
   "source": [
    "if SLOW == True:\n",
    "\n",
    "    # function that matches an int only to another int if they are within a certain range\n",
    "    def matchYear(year,cYear, yearDelta=1):\n",
    "        if abs(year - cYear) > yearDelta:\n",
    "            return False\n",
    "        else:\n",
    "            return True\n",
    "\n",
    "    # function that deternmines the similarity between two movies titles and years\n",
    "    def match_movies(title, year, title2, year2, threshold=0.95,yearDelta=1):\n",
    "        if SequenceMatcher(None, title, title2).ratio() > threshold and matchYear(int(year),int(year2),yearDelta):\n",
    "            return True\n",
    "        else:\n",
    "            return False\n",
    "\n",
    "    # add a column to the dataframe that contains the movie uuid\n",
    "    df_sub_index['movie_uuid'] = \"\"\n",
    "\n",
    "    matches = []\n",
    "    length = len(df_movies)\n",
    "\n",
    "    for i,movie in tqdm(df_movies.iterrows(),total=length):\n",
    "        for index, row in df_sub_index.iterrows():\n",
    "            if match_movies(movie[\"title\"],movie[\"year\"],row[\"MovieName\"],row[\"MovieYear\"],threshold=0.9,yearDelta=1):\n",
    "                df_sub_index.loc[index,'movie_uuid'] = movie[\"uuid\"]\n",
    "                break"
   ]
  },
  {
   "attachments": {},
   "cell_type": "markdown",
   "metadata": {},
   "source": [
    "### Results"
   ]
  },
  {
   "cell_type": "code",
   "execution_count": 11,
   "metadata": {},
   "outputs": [],
   "source": [
    "#print the rows that have a movie uuid\n",
    "# df_sub_index[df_sub_index['movie_uuid'] != \"\"]"
   ]
  },
  {
   "cell_type": "code",
   "execution_count": 12,
   "metadata": {},
   "outputs": [
    {
     "data": {
      "text/html": [
       "<div>\n",
       "<style scoped>\n",
       "    .dataframe tbody tr th:only-of-type {\n",
       "        vertical-align: middle;\n",
       "    }\n",
       "\n",
       "    .dataframe tbody tr th {\n",
       "        vertical-align: top;\n",
       "    }\n",
       "\n",
       "    .dataframe thead th {\n",
       "        text-align: right;\n",
       "    }\n",
       "</style>\n",
       "<table border=\"1\" class=\"dataframe\">\n",
       "  <thead>\n",
       "    <tr style=\"text-align: right;\">\n",
       "      <th></th>\n",
       "      <th>IDSubtitle</th>\n",
       "      <th>MovieName</th>\n",
       "      <th>MovieYear</th>\n",
       "      <th>uuid</th>\n",
       "    </tr>\n",
       "  </thead>\n",
       "  <tbody>\n",
       "    <tr>\n",
       "      <th>8</th>\n",
       "      <td>24</td>\n",
       "      <td>Ghost Ship</td>\n",
       "      <td>2002</td>\n",
       "      <td>b668a638f30111edb451b8aeed79c0cc</td>\n",
       "    </tr>\n",
       "    <tr>\n",
       "      <th>10</th>\n",
       "      <td>28</td>\n",
       "      <td>I Spy</td>\n",
       "      <td>2002</td>\n",
       "      <td>9adb338ef30311edb451b8aeed79c0cc</td>\n",
       "    </tr>\n",
       "    <tr>\n",
       "      <th>11</th>\n",
       "      <td>29</td>\n",
       "      <td>Dead Ringers</td>\n",
       "      <td>1988</td>\n",
       "      <td>3a81ffb0f30111edb451b8aeed79c0cc</td>\n",
       "    </tr>\n",
       "    <tr>\n",
       "      <th>21</th>\n",
       "      <td>88</td>\n",
       "      <td>Hi no tori</td>\n",
       "      <td>1978</td>\n",
       "      <td>33fc6720f31a11edb451b8aeed79c0cc</td>\n",
       "    </tr>\n",
       "    <tr>\n",
       "      <th>23</th>\n",
       "      <td>98</td>\n",
       "      <td>The Return</td>\n",
       "      <td>2003</td>\n",
       "      <td>649d1528f30111edb451b8aeed79c0cc</td>\n",
       "    </tr>\n",
       "    <tr>\n",
       "      <th>...</th>\n",
       "      <td>...</td>\n",
       "      <td>...</td>\n",
       "      <td>...</td>\n",
       "      <td>...</td>\n",
       "    </tr>\n",
       "    <tr>\n",
       "      <th>96604</th>\n",
       "      <td>9177680</td>\n",
       "      <td>Anything's Possible</td>\n",
       "      <td>2022</td>\n",
       "      <td>f8576998f31b11edb451b8aeed79c0cc</td>\n",
       "    </tr>\n",
       "    <tr>\n",
       "      <th>96616</th>\n",
       "      <td>9178231</td>\n",
       "      <td>Kill or Cure</td>\n",
       "      <td>1962</td>\n",
       "      <td>267cb10ef30111edb451b8aeed79c0cc</td>\n",
       "    </tr>\n",
       "    <tr>\n",
       "      <th>96623</th>\n",
       "      <td>9179258</td>\n",
       "      <td>Born Reckless</td>\n",
       "      <td>1958</td>\n",
       "      <td>e0fa63a0f30b11edb451b8aeed79c0cc</td>\n",
       "    </tr>\n",
       "    <tr>\n",
       "      <th>96631</th>\n",
       "      <td>9179688</td>\n",
       "      <td>Shut In</td>\n",
       "      <td>2022</td>\n",
       "      <td>c814b906f31c11edb451b8aeed79c0cc</td>\n",
       "    </tr>\n",
       "    <tr>\n",
       "      <th>96636</th>\n",
       "      <td>9179935</td>\n",
       "      <td>The Roundup</td>\n",
       "      <td>2022</td>\n",
       "      <td>3c009fb0f31d11edb451b8aeed79c0cc</td>\n",
       "    </tr>\n",
       "  </tbody>\n",
       "</table>\n",
       "<p>15702 rows × 4 columns</p>\n",
       "</div>"
      ],
      "text/plain": [
       "      IDSubtitle            MovieName MovieYear   \n",
       "8             24           Ghost Ship      2002  \\\n",
       "10            28                I Spy      2002   \n",
       "11            29         Dead Ringers      1988   \n",
       "21            88           Hi no tori      1978   \n",
       "23            98           The Return      2003   \n",
       "...          ...                  ...       ...   \n",
       "96604    9177680  Anything's Possible      2022   \n",
       "96616    9178231         Kill or Cure      1962   \n",
       "96623    9179258        Born Reckless      1958   \n",
       "96631    9179688              Shut In      2022   \n",
       "96636    9179935          The Roundup      2022   \n",
       "\n",
       "                                   uuid  \n",
       "8      b668a638f30111edb451b8aeed79c0cc  \n",
       "10     9adb338ef30311edb451b8aeed79c0cc  \n",
       "11     3a81ffb0f30111edb451b8aeed79c0cc  \n",
       "21     33fc6720f31a11edb451b8aeed79c0cc  \n",
       "23     649d1528f30111edb451b8aeed79c0cc  \n",
       "...                                 ...  \n",
       "96604  f8576998f31b11edb451b8aeed79c0cc  \n",
       "96616  267cb10ef30111edb451b8aeed79c0cc  \n",
       "96623  e0fa63a0f30b11edb451b8aeed79c0cc  \n",
       "96631  c814b906f31c11edb451b8aeed79c0cc  \n",
       "96636  3c009fb0f31d11edb451b8aeed79c0cc  \n",
       "\n",
       "[15702 rows x 4 columns]"
      ]
     },
     "execution_count": 12,
     "metadata": {},
     "output_type": "execute_result"
    }
   ],
   "source": [
    "\n",
    "\n",
    "# print the rows there movie uuid is not NaN\n",
    "df_out = df_merged[df_merged['uuid'].notna()].drop(columns=[\"title\",\"year\"])\n",
    "df_out"
   ]
  },
  {
   "cell_type": "code",
   "execution_count": 13,
   "metadata": {},
   "outputs": [],
   "source": [
    "# save the dataframe to a pickle file\n",
    "df_out.to_pickle(output_file)"
   ]
  }
 ],
 "metadata": {
  "kernelspec": {
   "display_name": ".venv",
   "language": "python",
   "name": "python3"
  },
  "language_info": {
   "codemirror_mode": {
    "name": "ipython",
    "version": 3
   },
   "file_extension": ".py",
   "mimetype": "text/x-python",
   "name": "python",
   "nbconvert_exporter": "python",
   "pygments_lexer": "ipython3",
   "version": "3.11.3"
  },
  "orig_nbformat": 4
 },
 "nbformat": 4,
 "nbformat_minor": 2
}
